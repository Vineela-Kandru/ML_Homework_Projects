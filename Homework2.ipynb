{
  "nbformat": 4,
  "nbformat_minor": 0,
  "metadata": {
    "colab": {
      "provenance": [],
      "authorship_tag": "ABX9TyPlPG30QR/FHnbs+mGSvuZi",
      "include_colab_link": true
    },
    "kernelspec": {
      "name": "python3",
      "display_name": "Python 3"
    },
    "language_info": {
      "name": "python"
    }
  },
  "cells": [
    {
      "cell_type": "markdown",
      "metadata": {
        "id": "view-in-github",
        "colab_type": "text"
      },
      "source": [
        "<a href=\"https://colab.research.google.com/github/Vineela-Kandru/ML_Homework_Projects/blob/main/Homework2.ipynb\" target=\"_parent\"><img src=\"https://colab.research.google.com/assets/colab-badge.svg\" alt=\"Open In Colab\"/></a>"
      ]
    },
    {
      "cell_type": "markdown",
      "source": [
        "**Create a regression model for predicting housing prices column 'median_house_value'**"
      ],
      "metadata": {
        "id": "oAoCb_qVWHRA"
      }
    },
    {
      "cell_type": "code",
      "execution_count": null,
      "metadata": {
        "id": "HbuZUBvtVqUg"
      },
      "outputs": [],
      "source": [
        "import pandas as pd\n",
        "import numpy as np\n",
        "import matplotlib as plt\n",
        "import seaborn as sns"
      ]
    },
    {
      "cell_type": "markdown",
      "source": [
        "**Fetching and Loading the Dataset**"
      ],
      "metadata": {
        "id": "MX-S6F7KXFHB"
      }
    },
    {
      "cell_type": "code",
      "source": [
        "url = \"https://raw.githubusercontent.com/alexeygrigorev/datasets/master/housing.csv\""
      ],
      "metadata": {
        "id": "bZJKX5_NV2cv"
      },
      "execution_count": null,
      "outputs": []
    },
    {
      "cell_type": "code",
      "source": [
        "df = pd.read_csv(url)"
      ],
      "metadata": {
        "id": "CModYYbUV2eS"
      },
      "execution_count": null,
      "outputs": []
    },
    {
      "cell_type": "markdown",
      "source": [
        "**EDA**\n",
        "\n",
        "**Look at the median_house_value variable. Does it have a long tail? NO**"
      ],
      "metadata": {
        "id": "QmhjeMbkXIl1"
      }
    },
    {
      "cell_type": "code",
      "source": [
        "#Plotting the histogram\n",
        "\n",
        "sns.histplot(df.median_house_value)"
      ],
      "metadata": {
        "colab": {
          "base_uri": "https://localhost:8080/",
          "height": 467
        },
        "id": "JhJUSxfMV2hP",
        "outputId": "b343124f-99d6-4c3a-821a-446dd80e10d1"
      },
      "execution_count": null,
      "outputs": [
        {
          "output_type": "execute_result",
          "data": {
            "text/plain": [
              "<Axes: xlabel='median_house_value', ylabel='Count'>"
            ]
          },
          "metadata": {},
          "execution_count": 4
        },
        {
          "output_type": "display_data",
          "data": {
            "text/plain": [
              "<Figure size 640x480 with 1 Axes>"
            ],
            "image/png": "[encoded data removed]"
          },
          "metadata": {}
        }
      ]
    },
    {
      "cell_type": "markdown",
      "source": [
        "**Preparing the dataset**\n",
        "\n",
        "For this homework, we only want to use a subset of data.\n",
        "\n",
        "First, keep only the records where ocean_proximity is either '<1H OCEAN' or 'INLAND'\n",
        "\n",
        "Next, use only the following columns:\n",
        "\n",
        "'latitude',\n",
        "'longitude',\n",
        "'housing_median_age',\n",
        "'total_rooms',\n",
        "'total_bedrooms',\n",
        "'population',\n",
        "'households',\n",
        "'median_income',\n",
        "'median_house_value'"
      ],
      "metadata": {
        "id": "u6Tfu0reXt-T"
      }
    },
    {
      "cell_type": "code",
      "source": [
        "df.ocean_proximity.unique()"
      ],
      "metadata": {
        "colab": {
          "base_uri": "https://localhost:8080/"
        },
        "id": "NxcQZ3dpV2iz",
        "outputId": "76058ebf-ef12-49b2-fd54-ba29aab5721a"
      },
      "execution_count": null,
      "outputs": [
        {
          "output_type": "execute_result",
          "data": {
            "text/plain": [
              "array(['NEAR BAY', '<1H OCEAN', 'INLAND', 'NEAR OCEAN', 'ISLAND'],\n",
              "      dtype=object)"
            ]
          },
          "metadata": {},
          "execution_count": 5
        }
      ]
    },
    {
      "cell_type": "code",
      "source": [
        "df = df[df['ocean_proximity'].isin(['<1H OCEAN', 'INLAND'])]"
      ],
      "metadata": {
        "id": "W5FYm5tuV2ls"
      },
      "execution_count": null,
      "outputs": []
    },
    {
      "cell_type": "code",
      "source": [
        "df = df[['latitude', 'longitude', 'housing_median_age', 'total_rooms', 'total_bedrooms', 'population', 'households', 'median_income', 'median_house_value']]"
      ],
      "metadata": {
        "id": "MQJiDiaJV2ng"
      },
      "execution_count": null,
      "outputs": []
    },
    {
      "cell_type": "code",
      "source": [
        "df.columns"
      ],
      "metadata": {
        "colab": {
          "base_uri": "https://localhost:8080/"
        },
        "id": "lykmQFmIV2u2",
        "outputId": "215bd920-9d95-4e10-cf87-41344090880f"
      },
      "execution_count": null,
      "outputs": [
        {
          "output_type": "execute_result",
          "data": {
            "text/plain": [
              "Index(['latitude', 'longitude', 'housing_median_age', 'total_rooms',\n",
              "       'total_bedrooms', 'population', 'households', 'median_income',\n",
              "       'median_house_value'],\n",
              "      dtype='object')"
            ]
          },
          "metadata": {},
          "execution_count": 8
        }
      ]
    },
    {
      "cell_type": "markdown",
      "source": [
        "**QUESTION 1**\n",
        "\n",
        "There's one feature with missing values. What is it?"
      ],
      "metadata": {
        "id": "lbzYSO1AabSW"
      }
    },
    {
      "cell_type": "code",
      "source": [
        "missing_values_feature = df.isnull().sum()\n",
        "\n",
        "print('Feature with missing Values:', missing_values_feature[missing_values_feature > 0].index.tolist())"
      ],
      "metadata": {
        "colab": {
          "base_uri": "https://localhost:8080/"
        },
        "id": "dF3W9cl-V2zx",
        "outputId": "920453a2-a53f-46d9-c5be-0fef77cbd9bc"
      },
      "execution_count": null,
      "outputs": [
        {
          "output_type": "stream",
          "name": "stdout",
          "text": [
            "Feature with missing Values: ['total_bedrooms']\n"
          ]
        }
      ]
    },
    {
      "cell_type": "markdown",
      "source": [
        "**Question 2**\n",
        "\n",
        "What's the median (50% percentile) for variable 'population'?"
      ],
      "metadata": {
        "id": "wMZkhurga8eB"
      }
    },
    {
      "cell_type": "code",
      "source": [
        "print('median (50% percentile) for variable \"population\":',df['population'].median())"
      ],
      "metadata": {
        "colab": {
          "base_uri": "https://localhost:8080/"
        },
        "id": "Isn9LTKocQt9",
        "outputId": "7198c49d-ade2-4577-f078-595443580aa8"
      },
      "execution_count": null,
      "outputs": [
        {
          "output_type": "stream",
          "name": "stdout",
          "text": [
            "median (50% percentile) for variable \"population\": 1195.0\n"
          ]
        }
      ]
    },
    {
      "cell_type": "markdown",
      "source": [
        "**Prepare and split the dataset**\n",
        "\n",
        "Shuffle the initial dataset, use seed 42.\n",
        "\n",
        "Split your data in train/val/test sets, with 60%/20%/20% distribution.\n",
        "\n",
        "Apply the log transformation to the median_house_value variable using the np.log1p() function."
      ],
      "metadata": {
        "id": "BK5w6jqfbfDl"
      }
    },
    {
      "cell_type": "code",
      "source": [
        "df.shape"
      ],
      "metadata": {
        "colab": {
          "base_uri": "https://localhost:8080/"
        },
        "id": "agcogu88c9Ld",
        "outputId": "b0a48f7a-5a16-4fe9-fb64-2d6cb50417c9"
      },
      "execution_count": null,
      "outputs": [
        {
          "output_type": "execute_result",
          "data": {
            "text/plain": [
              "(15687, 9)"
            ]
          },
          "metadata": {},
          "execution_count": 11
        }
      ]
    },
    {
      "cell_type": "code",
      "source": [
        "#splitting the dataset\n",
        "n = len(df)\n",
        "n_val = int(n*0.2)\n",
        "n_test = int(n*0.2)\n",
        "n_train = n - n_val - n_test"
      ],
      "metadata": {
        "id": "agEdlfBGc8-P"
      },
      "execution_count": null,
      "outputs": []
    },
    {
      "cell_type": "code",
      "source": [
        "#shuffling the dataset\n",
        "\n",
        "idx = np.arange(n)\n",
        "\n",
        "np.random.seed(42)\n",
        "\n",
        "np.random.shuffle(idx)\n",
        "\n",
        "idx[n_train:]"
      ],
      "metadata": {
        "colab": {
          "base_uri": "https://localhost:8080/"
        },
        "id": "zxuDqeyZmCfS",
        "outputId": "e6214b0f-f9f9-4186-f44d-c4ec63238118"
      },
      "execution_count": null,
      "outputs": [
        {
          "output_type": "execute_result",
          "data": {
            "text/plain": [
              "array([7493, 9043, 5968, ..., 5390,  860, 7270])"
            ]
          },
          "metadata": {},
          "execution_count": 13
        }
      ]
    },
    {
      "cell_type": "code",
      "source": [
        "# Applying the log transformation to the median_house_value variable\n",
        "\n",
        "median_house_value_log = np.log1p(df.median_house_value)"
      ],
      "metadata": {
        "id": "qDyo0AXeV21m"
      },
      "execution_count": null,
      "outputs": []
    },
    {
      "cell_type": "code",
      "source": [
        "# plotting\n",
        "sns.histplot(median_house_value_log)"
      ],
      "metadata": {
        "colab": {
          "base_uri": "https://localhost:8080/",
          "height": 467
        },
        "id": "ig4NKQr1V26t",
        "outputId": "6344f78b-992e-4a7b-fcf9-68d20612c88b"
      },
      "execution_count": null,
      "outputs": [
        {
          "output_type": "execute_result",
          "data": {
            "text/plain": [
              "<Axes: xlabel='median_house_value', ylabel='Count'>"
            ]
          },
          "metadata": {},
          "execution_count": 15
        },
        {
          "output_type": "display_data",
          "data": {
            "text/plain": [
              "<Figure size 640x480 with 1 Axes>"
            ],
            "image/png": "[encoded data removed]"
          },
          "metadata": {}
        }
      ]
    },
    {
      "cell_type": "code",
      "source": [
        "# Creating Training, Validation and Test Dataframes.\n",
        "\n",
        "df_train = df.iloc[idx[n_train:]]\n",
        "df_val = df.iloc[idx[n_train:n_train+n_val]]\n",
        "df_test = df.iloc[idx[n_train + n_val :]]"
      ],
      "metadata": {
        "id": "UqtjojzOmItj"
      },
      "execution_count": null,
      "outputs": []
    },
    {
      "cell_type": "code",
      "source": [
        "y_train = np.log1p(df_train.median_house_value)\n",
        "y_val = np.log1p(df_val.median_house_value)\n",
        "y_test = np.log1p(df_test.median_house_value)"
      ],
      "metadata": {
        "id": "qytnmf8V4Ofr"
      },
      "execution_count": null,
      "outputs": []
    },
    {
      "cell_type": "code",
      "source": [
        "del df_train['median_house_value']\n",
        "del df_val['median_house_value']\n",
        "del df_test['median_house_value']"
      ],
      "metadata": {
        "id": "5kc2BlxD8698"
      },
      "execution_count": null,
      "outputs": []
    },
    {
      "cell_type": "markdown",
      "source": [
        "**Question 3**\n",
        "\n",
        "We need to deal with missing values for the column from Q1.\n",
        "\n",
        "We have two options: fill it with 0 or with the mean of this variable.\n",
        "\n",
        "Try both options. For each, train a linear regression model without regularization using the code from the lessons.\n",
        "\n",
        "For computing the mean, use the training only!\n",
        "\n",
        "Use the validation dataset to evaluate the models and compare the RMSE of each option.\n",
        "\n",
        "Round the RMSE scores to 2 decimal digits using round(score, 2)\n",
        "\n",
        "Which option gives better RMSE?\n",
        "\n",
        "**Both are equally good.**\n",
        "\n",
        "\n"
      ],
      "metadata": {
        "id": "pHz1OCqqjKPm"
      }
    },
    {
      "cell_type": "code",
      "source": [
        "# missing values\n",
        "\n",
        "df_train.isnull().sum()"
      ],
      "metadata": {
        "colab": {
          "base_uri": "https://localhost:8080/"
        },
        "id": "EV81awciV2-M",
        "outputId": "224375d4-8f36-4aa0-cb7e-802f6f43b424"
      },
      "execution_count": null,
      "outputs": [
        {
          "output_type": "execute_result",
          "data": {
            "text/plain": [
              "latitude               0\n",
              "longitude              0\n",
              "housing_median_age     0\n",
              "total_rooms            0\n",
              "total_bedrooms        63\n",
              "population             0\n",
              "households             0\n",
              "median_income          0\n",
              "dtype: int64"
            ]
          },
          "metadata": {},
          "execution_count": 19
        }
      ]
    },
    {
      "cell_type": "markdown",
      "source": [
        "**FILLING MISSING VALUES WITH ZERO**"
      ],
      "metadata": {
        "id": "kahwFr466hBE"
      }
    },
    {
      "cell_type": "code",
      "source": [
        "# Preparing the Feature Matrix - Filled the missed values with 0's\n",
        "\n",
        "def prepare_X_with_Zeros(df):\n",
        "  df_num = df\n",
        "  df_num = df_num.fillna(0)\n",
        "  X = df_num.values\n",
        "  return X"
      ],
      "metadata": {
        "id": "gXFa1e4y6gaW"
      },
      "execution_count": null,
      "outputs": []
    },
    {
      "cell_type": "code",
      "source": [
        "#Training the Linear Regression Model\n",
        "\n",
        "def train_linear_regression(X,y):\n",
        "  ones =np.ones(X.shape[0])\n",
        "  X = np.column_stack([ones,X])\n",
        "  XTX = X.T.dot(X)\n",
        "  XTX_inv = np.linalg.inv(XTX)\n",
        "  w_full = XTX_inv.dot(X.T).dot(y)\n",
        "  return w_full[0], w_full[1:]"
      ],
      "metadata": {
        "id": "7mfVOySt72gO"
      },
      "execution_count": null,
      "outputs": []
    },
    {
      "cell_type": "code",
      "source": [
        "# Calculating the RMSE\n",
        "\n",
        "def rmse(y,y_pred):\n",
        "  error = y - y_pred\n",
        "  se = error**2\n",
        "  mse = se.mean()\n",
        "  return np.sqrt(mse)"
      ],
      "metadata": {
        "id": "kfihosgx-fPW"
      },
      "execution_count": null,
      "outputs": []
    },
    {
      "cell_type": "code",
      "source": [
        "#Implementing the functions\n",
        "\n",
        "X_train = prepare_X_with_Zeros(df_train)\n",
        "W0,W = train_linear_regression(X_train, y_train)"
      ],
      "metadata": {
        "id": "JJzM2o1kV3Ag"
      },
      "execution_count": null,
      "outputs": []
    },
    {
      "cell_type": "code",
      "source": [
        "#Predicting using validating dataset\n",
        "\n",
        "X_val = prepare_X_with_Zeros(df_val)\n",
        "y_pred = W0 + X_val.dot(W)"
      ],
      "metadata": {
        "id": "b7shF2TyV3C6"
      },
      "execution_count": null,
      "outputs": []
    },
    {
      "cell_type": "code",
      "source": [
        "# RMSE Calculation\n",
        "\n",
        "score = rmse(y_val,y_pred)\n",
        "\n",
        "round(score, 2)"
      ],
      "metadata": {
        "colab": {
          "base_uri": "https://localhost:8080/"
        },
        "id": "vkUbcsGfV3E9",
        "outputId": "66740514-1385-4674-b75c-26f52bdea167"
      },
      "execution_count": null,
      "outputs": [
        {
          "output_type": "execute_result",
          "data": {
            "text/plain": [
              "0.34"
            ]
          },
          "metadata": {},
          "execution_count": 25
        }
      ]
    },
    {
      "cell_type": "markdown",
      "source": [
        "**FILLING MISSING VALUES WITH THE MEAN IN TRAINING SET**"
      ],
      "metadata": {
        "id": "yU81ohNDvt5m"
      }
    },
    {
      "cell_type": "code",
      "source": [
        "# Preparing the Feature Matrix - Filled the missed values with 0's\n",
        "\n",
        "def prepare_X_with_mean(df):\n",
        "  df_filled_with_mean = df\n",
        "  mean_value = df_train['total_bedrooms'].mean()\n",
        "  df_filled_with_mean = df.fillna(mean_value)\n",
        "  X = df_filled_with_mean.values\n",
        "  return X"
      ],
      "metadata": {
        "id": "CUeUYW87vtgC"
      },
      "execution_count": null,
      "outputs": []
    },
    {
      "cell_type": "code",
      "source": [
        "# Implementing fnctions\n",
        "\n",
        "X_train = prepare_X_with_mean(df_train) # feature matrix\n",
        "W0,W = train_linear_regression(X_train, y_train) # weights"
      ],
      "metadata": {
        "id": "RfIOnqqsxebg"
      },
      "execution_count": null,
      "outputs": []
    },
    {
      "cell_type": "code",
      "source": [
        "# Using Validating Dataset\n",
        "\n",
        "X_val = prepare_X_with_mean(df_val)\n",
        "y_pred = W0 + X_val.dot(W)"
      ],
      "metadata": {
        "id": "BZbMX5RrV3J8"
      },
      "execution_count": null,
      "outputs": []
    },
    {
      "cell_type": "code",
      "source": [
        "# Calculating RMSE\n",
        "\n",
        "score = rmse(y_val,y_pred)\n",
        "\n",
        "round(score, 2)"
      ],
      "metadata": {
        "colab": {
          "base_uri": "https://localhost:8080/"
        },
        "id": "QlNYJiR4xxcA",
        "outputId": "5716bfe1-4a20-4b70-a9ce-583160409d67"
      },
      "execution_count": null,
      "outputs": [
        {
          "output_type": "execute_result",
          "data": {
            "text/plain": [
              "0.34"
            ]
          },
          "metadata": {},
          "execution_count": 29
        }
      ]
    },
    {
      "cell_type": "markdown",
      "source": [
        "**Question 4**\n",
        "\n",
        "Now let's train a regularized linear regression.\n",
        "\n",
        "For this question, fill the NAs with 0.\n",
        "\n",
        "Try different values of r from this list: [0, 0.000001, 0.0001, 0.001, 0.01, 0.1, 1, 5, 10].\n",
        "\n",
        "Use RMSE to evaluate the model on the validation dataset.\n",
        "\n",
        "Round the RMSE scores to 2 decimal digits.\n",
        "\n",
        "Which r gives the best RMSE?\n",
        "\n",
        "**ANSWER - 0**"
      ],
      "metadata": {
        "id": "l_RMPf4u2nlh"
      }
    },
    {
      "cell_type": "code",
      "source": [
        "#Training the Linear Regression Model\n",
        "\n",
        "def train_linear_regression_reg(X,y,r):\n",
        "  ones =np.ones(X.shape[0])\n",
        "  X = np.column_stack([ones,X])\n",
        "  XTX = X.T.dot(X)\n",
        "  XTX = XTX + r * np.eye(XTX.shape[0])\n",
        "  XTX_inv = np.linalg.inv(XTX)\n",
        "  w_full = XTX_inv.dot(X.T).dot(y)\n",
        "  return w_full[0], w_full[1:]"
      ],
      "metadata": {
        "id": "ssaoS-_p4qzO"
      },
      "execution_count": null,
      "outputs": []
    },
    {
      "cell_type": "code",
      "source": [
        "# Regularized linear regression\n",
        "\n",
        "r = [0, 0.000001, 0.0001, 0.001, 0.01, 0.1, 1, 5, 10]\n",
        "\n",
        "for r in [0, 0.000001, 0.0001, 0.001, 0.01, 0.1, 1, 5, 10]:\n",
        "  X_train = prepare_X_with_Zeros(df_train)\n",
        "  W0,W = train_linear_regression_reg(X_train, y_train,r=r)\n",
        "  X_val = prepare_X_with_Zeros(df_val)\n",
        "  y_pred = W0+ + X_val.dot(W)\n",
        "  score = rmse(y_val,y_pred)\n",
        "  print(r, '-' ,round(score,2) )"
      ],
      "metadata": {
        "colab": {
          "base_uri": "https://localhost:8080/"
        },
        "id": "n7KVefuOV3OP",
        "outputId": "9d6add7a-b3f6-429a-ffea-aad99f4938cf"
      },
      "execution_count": null,
      "outputs": [
        {
          "output_type": "stream",
          "name": "stdout",
          "text": [
            "0 - 0.34\n",
            "1e-06 - 0.34\n",
            "0.0001 - 0.34\n",
            "0.001 - 0.34\n",
            "0.01 - 0.34\n",
            "0.1 - 0.34\n",
            "1 - 0.35\n",
            "5 - 0.35\n",
            "10 - 0.35\n"
          ]
        }
      ]
    },
    {
      "cell_type": "markdown",
      "source": [
        "**Question 5**\n",
        "\n",
        "We used seed 42 for splitting the data. Let's find out how selecting the seed influences our score.\n",
        "\n",
        "Try different seed values: [0, 1, 2, 3, 4, 5, 6, 7, 8, 9].\n",
        "\n",
        "For each seed, do the train/validation/test split with 60%/20%/20% distribution.\n",
        "\n",
        "Fill the missing values with 0 and train a model without regularization.\n",
        "\n",
        "For each seed, evaluate the model on the validation dataset and collect the RMSE scores.\n",
        "\n",
        "What's the standard deviation of all the scores? To compute the standard deviation, use np.std.\n",
        "\n",
        "Round the result to 3 decimal digits (round(std, 3))\n",
        "\n",
        "What's the value of std?\n",
        "\n",
        "**0.004**"
      ],
      "metadata": {
        "id": "J24cZyIi9BrY"
      }
    },
    {
      "cell_type": "code",
      "source": [
        "# Define the list of seed values\n",
        "seed_values = [0, 1, 2, 3, 4, 5, 6, 7, 8, 9]\n",
        "\n",
        "# Initialize a list to store RMSE scores\n",
        "rmse_scores = []\n",
        "\n",
        "# Loop through different seed values\n",
        "for seed in seed_values:\n",
        "    # Set the random seed for reproducibility\n",
        "    np.random.seed(seed)\n",
        "\n",
        "    # Perform train/validation/test split (60%/20%/20%)\n",
        "    n = len(df)\n",
        "    n_val = int(n*0.2)\n",
        "    n_test = int(n*0.2)\n",
        "    n_train = n - n_val - n_test\n",
        "    idx = np.arange(n)\n",
        "    np.random.shuffle(idx)\n",
        "\n",
        "    df_train = df.iloc[idx[:n_train]]\n",
        "    df_val = df.iloc[idx[n_train:n_train+n_val]]\n",
        "    df_test = df.iloc[idx[n_train + n_val:]]\n",
        "\n",
        "    y_train = np.log1p(df_train.median_house_value)\n",
        "    y_val = np.log1p(df_val.median_house_value)\n",
        "\n",
        "    # Fill missing values with 0\n",
        "    X_train = prepare_X_with_Zeros(df_train)\n",
        "    X_val = prepare_X_with_Zeros(df_val)\n",
        "\n",
        "    # Train a model without regularization\n",
        "    W0, W = train_linear_regression(X_train, y_train)\n",
        "\n",
        "    # Predict on the validation set\n",
        "    y_pred = W0 + X_val.dot(W)\n",
        "\n",
        "    # Calculate RMSE\n",
        "    rmse_score = rmse(y_val, y_pred)\n",
        "\n",
        "    # Append the RMSE score to the list\n",
        "    rmse_scores.append(rmse_score)\n",
        "\n",
        "# Calculate the standard deviation of RMSE scores\n",
        "std_dev = np.std(rmse_scores)\n",
        "\n",
        "# Round the result to 3 decimal digits\n",
        "std_dev_rounded = round(std_dev, 3)\n",
        "\n",
        "# Print the standard deviation\n",
        "print(f\"The standard deviation of RMSE scores is: {std_dev_rounded}\")"
      ],
      "metadata": {
        "id": "Uun7D_-HV3R0",
        "colab": {
          "base_uri": "https://localhost:8080/"
        },
        "outputId": "5aca9a35-abb3-4dac-9df3-9519b54a441b"
      },
      "execution_count": 35,
      "outputs": [
        {
          "output_type": "stream",
          "name": "stdout",
          "text": [
            "The standard deviation of RMSE scores is: 0.004\n"
          ]
        }
      ]
    },
    {
      "cell_type": "markdown",
      "source": [
        "**Question 6**\n",
        "\n",
        "Split the dataset like previously, use seed 9.\n",
        "\n",
        "Combine train and validation datasets.\n",
        "\n",
        "Fill the missing values with 0 and train a model with r=0.001.\n",
        "\n",
        "What's the RMSE on the test dataset?\n",
        "\n",
        "**0.166**"
      ],
      "metadata": {
        "id": "iQryU2gCPQyA"
      }
    },
    {
      "cell_type": "code",
      "source": [
        "# Set the random seed for reproducibility\n",
        "np.random.seed(9)\n",
        "\n",
        "# Perform train/validation/test split (60%/20%/20%)\n",
        "n = len(df)\n",
        "n_train = int(n * 0.6)\n",
        "n_val = int(n * 0.2)\n",
        "n_test = n - n_train - n_val\n",
        "idx = np.arange(n)\n",
        "np.random.shuffle(idx)\n",
        "\n",
        "df_train = df.iloc[idx[:n_train]]\n",
        "df_val = df.iloc[idx[n_train:n_train + n_val]]\n",
        "df_test = df.iloc[idx[n_train + n_val:]]\n",
        "\n",
        "# Combine train and validation datasets\n",
        "df_train_val = pd.concat([df_train, df_val])\n",
        "\n",
        "y_train_val = np.log1p(df_train_val.median_house_value)\n",
        "y_test = np.log1p(df_test.median_house_value)\n",
        "\n",
        "# Fill missing values with 0\n",
        "X_train_val = prepare_X_with_Zeros(df_train_val)\n",
        "X_test = prepare_X_with_Zeros(df_test)\n",
        "\n",
        "# Train a model with regularization parameter r=0.001\n",
        "W0, W = train_linear_regression_reg(X_train_val, y_train_val, r=0.001)\n",
        "\n",
        "# Predict on the test set\n",
        "y_pred = W0 + X_test.dot(W)\n",
        "\n",
        "# Calculate RMSE on the test dataset\n",
        "rmse_test = rmse(y_test, y_pred)\n",
        "\n",
        "print(f\"The RMSE on the test dataset is: {rmse_test.round(3)}\")\n"
      ],
      "metadata": {
        "colab": {
          "base_uri": "https://localhost:8080/"
        },
        "id": "EAxpTS8wOebt",
        "outputId": "4ac4f186-5ca9-4c7b-d73f-3ade6f7ab421"
      },
      "execution_count": 44,
      "outputs": [
        {
          "output_type": "stream",
          "name": "stdout",
          "text": [
            "The RMSE on the test dataset is: 0.166\n"
          ]
        }
      ]
    },
    {
      "cell_type": "code",
      "source": [],
      "metadata": {
        "id": "uR-qZV4-OeYr"
      },
      "execution_count": null,
      "outputs": []
    },
    {
      "cell_type": "code",
      "source": [],
      "metadata": {
        "id": "aNaRE5M4OeW5"
      },
      "execution_count": null,
      "outputs": []
    },
    {
      "cell_type": "code",
      "source": [],
      "metadata": {
        "id": "sBVYkjH_OeTw"
      },
      "execution_count": null,
      "outputs": []
    },
    {
      "cell_type": "code",
      "source": [],
      "metadata": {
        "id": "OHUamlt7OeSO"
      },
      "execution_count": null,
      "outputs": []
    },
    {
      "cell_type": "code",
      "source": [],
      "metadata": {
        "id": "sFXtQqYYOePT"
      },
      "execution_count": null,
      "outputs": []
    },
    {
      "cell_type": "code",
      "source": [],
      "metadata": {
        "id": "TJ7Mree9OeNd"
      },
      "execution_count": null,
      "outputs": []
    }
  ]
}